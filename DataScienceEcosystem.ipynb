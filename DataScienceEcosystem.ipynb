{
  "nbformat": 4,
  "nbformat_minor": 0,
  "metadata": {
    "colab": {
      "provenance": []
    },
    "kernelspec": {
      "name": "python3",
      "display_name": "Python 3"
    },
    "language_info": {
      "name": "python"
    }
  },
  "cells": [
    {
      "cell_type": "markdown",
      "source": [
        "### Data Science Tools and Ecosystem"
      ],
      "metadata": {
        "id": "a4ALNIKC9v4S"
      }
    },
    {
      "cell_type": "markdown",
      "source": [
        "In this notebook, Data Science Tools and Ecosystem are summarized."
      ],
      "metadata": {
        "id": "Rm5Oq2dt-Sfi"
      }
    },
    {
      "cell_type": "markdown",
      "source": [
        "**Objectives:**\n",
        "\n",
        "*   Overview of Data Science Tools\n",
        "*   Know the popular languages of Data Science\n",
        "*   Learn to use Jupyter Notebooks and JupyterLab\n",
        "\n"
      ],
      "metadata": {
        "id": "nwPX95IRCSQP"
      }
    },
    {
      "cell_type": "markdown",
      "source": [
        "Some of the popular languages that Data Scientists use are:\n",
        "1.   Python\n",
        "2.   R\n",
        "3.   SQL\n",
        "\n"
      ],
      "metadata": {
        "id": "4T0y7Y-n-ix5"
      }
    },
    {
      "cell_type": "markdown",
      "source": [
        "Some of the commonly used libraries used by Data Scientists include:\n",
        "1.   NumPy\n",
        "2.   Pandas\n",
        "3.   Matplotlib\n",
        "\n"
      ],
      "metadata": {
        "id": "7ICBEgNp_OkZ"
      }
    },
    {
      "cell_type": "markdown",
      "source": [
        "| Data Science Tools |\n",
        "| ------------------ |\n",
        "| Jupyter Notebook   |\n",
        "| RStudio            |\n",
        "| TensorFlow         |"
      ],
      "metadata": {
        "id": "0m_q7bs__qwE"
      }
    },
    {
      "cell_type": "markdown",
      "source": [
        "### Below are a few examples of evaluating arithmetic expressions in Python"
      ],
      "metadata": {
        "id": "FJVc_ro5A6fU"
      }
    },
    {
      "cell_type": "code",
      "source": [
        "#This a simple arithmetic expression to mutiply then add integers\n",
        "print((3*4)+5)"
      ],
      "metadata": {
        "colab": {
          "base_uri": "https://localhost:8080/"
        },
        "id": "2rJTJsxxBg3K",
        "outputId": "0d1f2cb8-0bd4-4607-979a-e6591285fcac"
      },
      "execution_count": 1,
      "outputs": [
        {
          "output_type": "stream",
          "name": "stdout",
          "text": [
            "17\n"
          ]
        }
      ]
    },
    {
      "cell_type": "code",
      "source": [
        "#This will convert 200 minutes to hours by diving by 60\n",
        "minutes = 200\n",
        "hours = minutes / 60\n",
        "print(hours)"
      ],
      "metadata": {
        "colab": {
          "base_uri": "https://localhost:8080/"
        },
        "id": "B63eBmTQB3hc",
        "outputId": "0fa809ae-d876-4be7-fd59-98a0f8a0ba84"
      },
      "execution_count": 2,
      "outputs": [
        {
          "output_type": "stream",
          "name": "stdout",
          "text": [
            "3.3333333333333335\n"
          ]
        }
      ]
    },
    {
      "cell_type": "markdown",
      "source": [
        "## Author\n",
        "Lakshman Aravind Pari"
      ],
      "metadata": {
        "id": "4dn_oi7LDK0Z"
      }
    }
  ]
}